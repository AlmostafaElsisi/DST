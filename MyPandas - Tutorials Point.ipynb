{
 "cells": [
  {
   "cell_type": "markdown",
   "metadata": {},
   "source": [
    "# Pandas Tutorials Point\n",
    "\n",
    "# Pandas\n",
    "\n",
    "Pandas deals with the following three data structures \n",
    "\n",
    "+ Series    1 Dimensions\n",
    "+ DataFrame 2 Dimensions\n",
    "* Panel     3 Dimensions\n",
    "\n",
    "DataFrame is a container of Series, Panel is a container of DataFrame.\n",
    "\n",
    "#### Mutability\n",
    "All Pandas data structures are value mutable (can be changed) and except Series all are size mutable. \n",
    "\n",
    "Series is size immutable.\n"
   ]
  },
  {
   "cell_type": "markdown",
   "metadata": {},
   "source": [
    "## Series\n",
    "\n",
    "+ Homogeneous data\n",
    "+ Size Immutable\n",
    "+ Values of Data Mutable\n",
    "\n",
    "## DataFrame\n",
    "\n",
    "+ Heterogeneous  data\n",
    "+ Size Mutable\n",
    "+ Data Mutable\n",
    "\n",
    "## Panel\n",
    "\n",
    "+ Heterogeneous  data\n",
    "+ Size Mutable\n",
    "+ Data Mutable"
   ]
  },
  {
   "cell_type": "markdown",
   "metadata": {},
   "source": [
    "# Series\n",
    "\n",
    "create series from Array , Dict and Scalar value or constant"
   ]
  },
  {
   "cell_type": "code",
   "execution_count": 23,
   "metadata": {},
   "outputs": [
    {
     "name": "stdout",
     "output_type": "stream",
     "text": [
      "<class 'numpy.ndarray'>\n",
      "0    a\n",
      "1    b\n",
      "2    c\n",
      "dtype: object\n",
      "100    a\n",
      "101    b\n",
      "102    c\n",
      "dtype: object\n",
      "a    1.0\n",
      "b    2.0\n",
      "c    3.0\n",
      "dtype: float64\n",
      "c    3.0\n",
      "b    2.0\n",
      "X    NaN\n",
      "a    1.0\n",
      "dtype: float64\n"
     ]
    }
   ],
   "source": [
    "import pandas as pd\n",
    "import numpy as np\n",
    "# Create Series \n",
    "#from numpy.ndarray\n",
    "array=np.array(['a','b','c'])\n",
    "print(type(array))\n",
    "s1=pd.Series(array)\n",
    "print(s1)\n",
    "#With index\n",
    "s2=pd.Series(array,index=[100,101,102])\n",
    "print(s2)\n",
    "\n",
    "#Dict\n",
    "#Dictionary keys are used to construct index\n",
    "dict={'a':1.0,'b':2.0,'c':3.0}\n",
    "s3=pd.Series(dict)\n",
    "print(s3)\n",
    "\n",
    "s4=pd.Series(dict,index=['c','b','X','a'])\n",
    "print(s4)"
   ]
  },
  {
   "cell_type": "code",
   "execution_count": null,
   "metadata": {
    "collapsed": true
   },
   "outputs": [],
   "source": []
  }
 ],
 "metadata": {
  "kernelspec": {
   "display_name": "Python 3",
   "language": "python",
   "name": "python3"
  },
  "language_info": {
   "codemirror_mode": {
    "name": "ipython",
    "version": 3
   },
   "file_extension": ".py",
   "mimetype": "text/x-python",
   "name": "python",
   "nbconvert_exporter": "python",
   "pygments_lexer": "ipython3",
   "version": "3.6.1"
  }
 },
 "nbformat": 4,
 "nbformat_minor": 2
}
